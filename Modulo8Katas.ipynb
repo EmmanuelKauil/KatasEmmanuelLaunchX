{
 "cells": [
  {
   "cell_type": "markdown",
   "metadata": {},
   "source": [
    "# Kata Modulo 8"
   ]
  },
  {
   "cell_type": "markdown",
   "metadata": {},
   "source": [
    "Ejercicio 1"
   ]
  },
  {
   "cell_type": "code",
   "execution_count": 35,
   "metadata": {},
   "outputs": [
    {
     "name": "stdout",
     "output_type": "stream",
     "text": [
      "Mars tiene 2 lunas\n",
      "Mars tiene una circunferencia en su polo de 6752\n"
     ]
    }
   ],
   "source": [
    "planet = {\n",
    "\"name\" : \"Mars\",\n",
    "\"moons\" : 2\n",
    "}\n",
    "#planet[\"name\"]\n",
    "print (f\"\"\"{planet[\"name\"]} tiene {planet[\"moons\"]} lunas\"\"\")\n",
    "\n",
    "planet[\"diametro\"] = {\n",
    "\n",
    "    \"polar\" : 6752,\n",
    "    \"equatorial\" : 6792\n",
    "}\n",
    "\n",
    "print(f\"\"\"{planet[\"name\"]} tiene una circunferencia en su polo de {planet[\"diametro\"][\"polar\"]}\"\"\")"
   ]
  },
  {
   "cell_type": "markdown",
   "metadata": {},
   "source": [
    "Ejercicio 2"
   ]
  },
  {
   "cell_type": "code",
   "execution_count": 53,
   "metadata": {},
   "outputs": [
    {
     "name": "stdout",
     "output_type": "stream",
     "text": [
      "Total lunas en sistema solar: 214\n",
      "Promedio de lunas en sistema solar: 18 lunas\n"
     ]
    }
   ],
   "source": [
    "\n",
    "from math import ceil, floor\n",
    "\n",
    "planet_moons = {\n",
    "    'mercury': 0,\n",
    "    'venus': 0,\n",
    "    'earth': 1,\n",
    "    'mars': 2,\n",
    "    'jupiter': 79,\n",
    "    'saturn': 82,\n",
    "    'uranus': 27,\n",
    "    'neptune': 14,\n",
    "    'pluto': 5,\n",
    "    'haumea': 2,\n",
    "    'makemake': 1,\n",
    "    'eris': 1\n",
    "}\n",
    "\n",
    "num_lunas = planet_moons.values()\n",
    "total_lunas = 0\n",
    "planetas = len(planet_moons.keys())\n",
    "prom = 0\n",
    "\n",
    "for total in planet_moons.values():\n",
    "   total_lunas = total_lunas + total\n",
    "\n",
    "prom = round(total_lunas / planetas)\n",
    "\n",
    "print(\"Total lunas en sistema solar:\",lunas)\n",
    "print (\"Promedio de lunas en sistema solar:\",prom , \"lunas\" )"
   ]
  }
 ],
 "metadata": {
  "interpreter": {
   "hash": "ec47ea89a6aa2c16e3b046a31fdb9dece51573f8ec57d2662828b6959c5134a5"
  },
  "kernelspec": {
   "display_name": "Python 3.10.2 64-bit",
   "language": "python",
   "name": "python3"
  },
  "language_info": {
   "codemirror_mode": {
    "name": "ipython",
    "version": 3
   },
   "file_extension": ".py",
   "mimetype": "text/x-python",
   "name": "python",
   "nbconvert_exporter": "python",
   "pygments_lexer": "ipython3",
   "version": "3.10.2"
  },
  "orig_nbformat": 4
 },
 "nbformat": 4,
 "nbformat_minor": 2
}
