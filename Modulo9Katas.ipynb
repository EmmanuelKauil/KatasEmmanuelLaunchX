{
 "cells": [
  {
   "cell_type": "markdown",
   "metadata": {},
   "source": [
    "# Kata Modulo 9"
   ]
  },
  {
   "cell_type": "markdown",
   "metadata": {},
   "source": [
    "Ejercicio 1"
   ]
  },
  {
   "cell_type": "code",
   "execution_count": 23,
   "metadata": {},
   "outputs": [
    {
     "data": {
      "text/plain": [
       "'Reporte principal : Total Promedio: 51.666666666666664% tanque1: 50% tanque2 : 60%tanque3: 45%'"
      ]
     },
     "execution_count": 23,
     "metadata": {},
     "output_type": "execute_result"
    }
   ],
   "source": [
    "def combustible(tanque1, tanque2, tanque3):\n",
    "    return f\"\"\"Reporte principal : Total Promedio: {promedio([tanque1, tanque2, tanque3])}% tanque1: {tanque1}% tanque2 : {tanque2}%tanque3: {tanque3}%\"\"\"\n",
    "\n",
    "def promedio(values):\n",
    "    total = sum(values)\n",
    "    number_of_items = len(values)\n",
    "    return total / number_of_items\n",
    "\n",
    "combustible(50, 60 , 45)\n"
   ]
  },
  {
   "cell_type": "markdown",
   "metadata": {},
   "source": [
    "Ejercicio 2"
   ]
  },
  {
   "cell_type": "code",
   "execution_count": 38,
   "metadata": {},
   "outputs": [
    {
     "name": "stdout",
     "output_type": "stream",
     "text": [
      "Destino a: Luna, tiempo de viaje: 60 min, REserva de Combustible: 600tanque1 500 de reservatanque2 100 de reserva\n"
     ]
    }
   ],
   "source": [
    "def mision(destino, *minutos, **combustible):\n",
    "    reporte = f\"\"\"Destino a: {destino}, tiempo de viaje: {sum(minutos)} min, REserva de Combustible: {sum(combustible.values())}\"\"\"\n",
    "    for tanque, litros in combustible.items():\n",
    "        reporte += f\"{tanque} {litros} de reserva\"\n",
    "    return reporte\n",
    "\n",
    "print(mision(\"Luna\", 10, 50, tanque1=500, tanque2=100))"
   ]
  }
 ],
 "metadata": {
  "interpreter": {
   "hash": "ec47ea89a6aa2c16e3b046a31fdb9dece51573f8ec57d2662828b6959c5134a5"
  },
  "kernelspec": {
   "display_name": "Python 3.10.2 64-bit",
   "language": "python",
   "name": "python3"
  },
  "language_info": {
   "codemirror_mode": {
    "name": "ipython",
    "version": 3
   },
   "file_extension": ".py",
   "mimetype": "text/x-python",
   "name": "python",
   "nbconvert_exporter": "python",
   "pygments_lexer": "ipython3",
   "version": "3.10.2"
  },
  "orig_nbformat": 4
 },
 "nbformat": 4,
 "nbformat_minor": 2
}
