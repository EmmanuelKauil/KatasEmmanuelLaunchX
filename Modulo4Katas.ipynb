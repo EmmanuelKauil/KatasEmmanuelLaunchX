{
 "cells": [
  {
   "cell_type": "markdown",
   "metadata": {},
   "source": [
    "# Katas - Modulo 4 - Cadenas"
   ]
  },
  {
   "cell_type": "markdown",
   "metadata": {},
   "source": [
    "Ejercicio 1"
   ]
  },
  {
   "cell_type": "code",
   "execution_count": 5,
   "metadata": {},
   "outputs": [
    {
     "name": "stdout",
     "output_type": "stream",
     "text": [
      " The Moon is Earth's only satellite\n",
      " There are several interesting facts about the Moon and how it affects life here on Earth\n",
      " This yearly drift is not significant enough to cause immediate effects on Earth\n"
     ]
    }
   ],
   "source": [
    "texto = \"\"\"Interesting facts about the Moon. The Moon is Earth's only satellite. There are several interesting facts about the Moon and how it affects life here on Earth. On average, the Moon moves 4 cm away from the Earth every year. This yearly drift is not significant enough to cause immediate effects on Earth.\"\"\"\n",
    "partes = texto.split('.')\n",
    "\n",
    "claves = [\"average\", \"temperature\", \"distance\"]\n",
    "\n",
    "for sentence in partes:\n",
    "    for claves in claves:\n",
    "        if claves in sentence:\n",
    "            print(sentence)\n",
    "            break\n",
    "\n",
    "\n"
   ]
  },
  {
   "cell_type": "markdown",
   "metadata": {},
   "source": [
    "Ejercicio 2"
   ]
  },
  {
   "cell_type": "code",
   "execution_count": 3,
   "metadata": {},
   "outputs": [
    {
     "name": "stdout",
     "output_type": "stream",
     "text": [
      "Datos De Gravedad Sobre Ganimedes \n",
      "-------------------------------------------------------------------------------- \n",
      "Nombre del planeta: Marte \n",
      "Gravedad en Ganimedes: 1.4300000000000002 m/s2 \n",
      "\n",
      "--------------------------------------------------------------------------------\n",
      " \n",
      "\n"
     ]
    }
   ],
   "source": [
    "\n",
    "planeta = 'Marte'\n",
    "gravedad  = 0.00143\n",
    "nombre = 'Ganimedes'\n",
    "\n",
    "# Creamos el título\n",
    "encabezado = f'datos de gravedad sobre {nombre}'\n",
    "\n",
    "# Creamos la plantilla\n",
    "hechos = f\"\"\"{'-'*80} \n",
    "Nombre del planeta: {planeta} \n",
    "Gravedad en {nombre}: {gravedad * 1000} m/s2 \n",
    "\n",
    "{'-'*80}\n",
    "\"\"\"\n",
    "\n",
    "# Unión de ambas cadenas\n",
    "plantilla = f\"\"\"{encabezado.title()} \n",
    "{hechos} \n",
    "\"\"\" \n",
    "print(plantilla)"
   ]
  }
 ],
 "metadata": {
  "interpreter": {
   "hash": "ec47ea89a6aa2c16e3b046a31fdb9dece51573f8ec57d2662828b6959c5134a5"
  },
  "kernelspec": {
   "display_name": "Python 3.10.2 64-bit",
   "language": "python",
   "name": "python3"
  },
  "language_info": {
   "codemirror_mode": {
    "name": "ipython",
    "version": 3
   },
   "file_extension": ".py",
   "mimetype": "text/x-python",
   "name": "python",
   "nbconvert_exporter": "python",
   "pygments_lexer": "ipython3",
   "version": "3.10.2"
  },
  "orig_nbformat": 4
 },
 "nbformat": 4,
 "nbformat_minor": 2
}
