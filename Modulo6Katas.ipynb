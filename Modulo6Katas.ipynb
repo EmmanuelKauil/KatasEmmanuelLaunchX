{
 "cells": [
  {
   "cell_type": "markdown",
   "metadata": {},
   "source": [
    "# Kata Modulo 6"
   ]
  },
  {
   "cell_type": "markdown",
   "metadata": {},
   "source": [
    "Ejercicio 1"
   ]
  },
  {
   "cell_type": "code",
   "execution_count": 24,
   "metadata": {},
   "outputs": [
    {
     "name": "stdout",
     "output_type": "stream",
     "text": [
      "Hay 8 planetas en el sistema solar.\n",
      "hay 9 planetas en el sistema solar. El ultimo planeta es Pluton\n"
     ]
    }
   ],
   "source": [
    "planetas = ['Mercurio', 'Venus', 'Tierra', 'Marte', 'Jupiter', 'Saturno', 'Urano', 'Neptuno']\n",
    "numero_de_planetas = len(planetas)\n",
    "print('Hay', numero_de_planetas, 'planetas en el sistema solar.')\n",
    "\n",
    "planetas.append('Pluton')\n",
    "numero_de_planetas = len(planetas)\n",
    "print('hay', numero_de_planetas, 'planetas en el sistema solar. El ultimo planeta es' , planetas[8])\n"
   ]
  },
  {
   "cell_type": "markdown",
   "metadata": {},
   "source": [
    "Ejercicio 2"
   ]
  },
  {
   "cell_type": "code",
   "execution_count": 1,
   "metadata": {},
   "outputs": [
    {
     "name": "stdout",
     "output_type": "stream",
     "text": [
      "Panetas que estan cerca de del sol ['Mercurio', 'Venus']\n",
      "Panetas que estan lejos del sol ['Marte', 'Jupiter', 'Saturno', 'Urano', 'Neptuno']\n"
     ]
    }
   ],
   "source": [
    "planetas = ['Mercurio', 'Venus', 'Tierra', 'Marte', 'Jupiter', 'Saturno', 'Urano', 'Neptuno']\n",
    "x_usuario = input(\"Ingresa el nombre de un planeta comenzando en mayuscula parfavar\")\n",
    "\n",
    "planeta_index  = planetas.index(x_usuario)\n",
    "planetas_cerca = planetas[0:planeta_index]\n",
    "planetas_lejos = planetas[planeta_index + 1:]\n",
    "\n",
    "print('Panetas que estan cerca de del sol', planetas_cerca)\n",
    "print('Panetas que estan lejos del sol', planetas_lejos)"
   ]
  }
 ],
 "metadata": {
  "interpreter": {
   "hash": "78c069be9deaa9abc52993cf08d0f325c4c2f57eb6a780c7b62dfe59e4d14fc8"
  },
  "kernelspec": {
   "display_name": "Python 3.10.2 64-bit (windows store)",
   "language": "python",
   "name": "python3"
  },
  "language_info": {
   "codemirror_mode": {
    "name": "ipython",
    "version": 3
   },
   "file_extension": ".py",
   "mimetype": "text/x-python",
   "name": "python",
   "nbconvert_exporter": "python",
   "pygments_lexer": "ipython3",
   "version": "3.10.2"
  },
  "orig_nbformat": 4
 },
 "nbformat": 4,
 "nbformat_minor": 2
}
