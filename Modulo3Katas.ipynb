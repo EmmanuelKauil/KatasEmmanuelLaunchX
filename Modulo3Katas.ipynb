{
 "cells": [
  {
   "cell_type": "markdown",
   "metadata": {},
   "source": [
    "# Kata Modulo 3"
   ]
  },
  {
   "cell_type": "markdown",
   "metadata": {},
   "source": [
    "Ejercicio 1"
   ]
  },
  {
   "cell_type": "code",
   "execution_count": 65,
   "metadata": {},
   "outputs": [
    {
     "name": "stdout",
     "output_type": "stream",
     "text": [
      "Advertencia, asteriode se acerca a la tierra, velocidad actual:49 km/s\n"
     ]
    }
   ],
   "source": [
    "velAst= 49\n",
    "velAdv= 25\n",
    "\n",
    "if velAst > velAdv:\n",
    "    print (\"Advertencia, asteriode se acerca a la tierra, velocidad actual:\" + str(velAst) + \" km/s\")\n",
    "\n",
    "else:\n",
    "    print (\"Ninguna Notificacion\")"
   ]
  },
  {
   "cell_type": "markdown",
   "metadata": {},
   "source": [
    "Ejercicio 2"
   ]
  },
  {
   "cell_type": "code",
   "execution_count": 1,
   "metadata": {},
   "outputs": [
    {
     "name": "stdout",
     "output_type": "stream",
     "text": [
      "Nada por aqui\n"
     ]
    }
   ],
   "source": [
    "velAst= 19\n",
    "velAdv= 20\n",
    "\n",
    "if velAst >= velAdv:\n",
    "    print (\"Asteriode visible\")\n",
    "elif velAst < velAdv:\n",
    "    print (\"Nada por aqui\")"
   ]
  },
  {
   "cell_type": "markdown",
   "metadata": {},
   "source": [
    "Ejercicio 3"
   ]
  },
  {
   "cell_type": "code",
   "execution_count": 8,
   "metadata": {},
   "outputs": [
    {
     "name": "stdout",
     "output_type": "stream",
     "text": [
      "Escaneo de espacio: - Advertencia, Asteroide de 10 m, a una velocidad de 30 km/h, sera visible.\n"
     ]
    }
   ],
   "source": [
    "velAst= 30\n",
    "velAdv= 20\n",
    "sizeAst=10\n",
    "\n",
    "\n",
    "if sizeAst >= 25 and sizeAst <= 1000:\n",
    "    print (\"Escaneo de espacio: - Peligro!! asteroide de \" + str(sizeAst) + \" km/h\")\n",
    "elif sizeAst < 25 and velAst > velAdv:\n",
    "     print (\"Escaneo de espacio: - Advertencia, Asteroide de \" + str(sizeAst) + \" m, a una velocidad de \" + str(velAst) + \" km/h, sera visible.\")\n",
    "    # print (\"Escaneo de espacio: - Advertencia, Asteroide de %s m, a una velocidad de \" % velAst + \" km/h sera visible\")\n",
    "elif velAst < velAdv:\n",
    "    print (\"Escaneo de espacio: - ok, ninguna advetemcia\")\n",
    "else: \n",
    "    print (\"Escaneo de espacio: - ok, ninguna advetemcia\")\n"
   ]
  }
 ],
 "metadata": {
  "interpreter": {
   "hash": "ec47ea89a6aa2c16e3b046a31fdb9dece51573f8ec57d2662828b6959c5134a5"
  },
  "kernelspec": {
   "display_name": "Python 3.10.2 64-bit",
   "language": "python",
   "name": "python3"
  },
  "language_info": {
   "codemirror_mode": {
    "name": "ipython",
    "version": 3
   },
   "file_extension": ".py",
   "mimetype": "text/x-python",
   "name": "python",
   "nbconvert_exporter": "python",
   "pygments_lexer": "ipython3",
   "version": "3.10.2"
  },
  "orig_nbformat": 4
 },
 "nbformat": 4,
 "nbformat_minor": 2
}
