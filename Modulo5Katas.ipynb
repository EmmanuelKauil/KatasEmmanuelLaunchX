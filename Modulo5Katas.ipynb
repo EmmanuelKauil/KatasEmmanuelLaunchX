{
 "cells": [
  {
   "cell_type": "markdown",
   "metadata": {},
   "source": [
    "# Kata Modulo 5"
   ]
  },
  {
   "cell_type": "markdown",
   "metadata": {},
   "source": [
    "Ejercicio 1"
   ]
  },
  {
   "cell_type": "code",
   "execution_count": 7,
   "metadata": {},
   "outputs": [
    {
     "name": "stdout",
     "output_type": "stream",
     "text": [
      "628949330 km\n",
      "390577534 millas\n"
     ]
    }
   ],
   "source": [
    "from math import ceil\n",
    "\n",
    "Dist_tierra_sol = 149597870\n",
    "Dist_jup_sol = 778547200\n",
    "\n",
    "\n",
    "dist_km = (Dist_jup_sol - Dist_tierra_sol)\n",
    "dist_mill = ceil(dist_km * 0.621)\n",
    "\n",
    "print(dist_km, \"km\")\n",
    "print(dist_mill, \"millas\")"
   ]
  },
  {
   "cell_type": "markdown",
   "metadata": {},
   "source": [
    "Ejercicio 2"
   ]
  },
  {
   "cell_type": "code",
   "execution_count": 19,
   "metadata": {},
   "outputs": [
    {
     "name": "stdout",
     "output_type": "stream",
     "text": [
      "57900000 km\n",
      "108200000 km\n",
      "31236300.0 millas\n"
     ]
    }
   ],
   "source": [
    "mercurio = input(\"¿Distancia del sol?\")\n",
    "venus = input(\"¿Distancia del sol?\")\n",
    "\n",
    "merc_int = int(mercurio)\n",
    "print(merc_int, \"km\")\n",
    "\n",
    "ven_int = int(venus)\n",
    "print(ven_int, \"km\")\n",
    "\n",
    "distancia = (abs(merc_int - ven_int)) * 0.621\n",
    "print(distancia, \"millas\")"
   ]
  }
 ],
 "metadata": {
  "interpreter": {
   "hash": "ec47ea89a6aa2c16e3b046a31fdb9dece51573f8ec57d2662828b6959c5134a5"
  },
  "kernelspec": {
   "display_name": "Python 3.10.2 64-bit",
   "language": "python",
   "name": "python3"
  },
  "language_info": {
   "codemirror_mode": {
    "name": "ipython",
    "version": 3
   },
   "file_extension": ".py",
   "mimetype": "text/x-python",
   "name": "python",
   "nbconvert_exporter": "python",
   "pygments_lexer": "ipython3",
   "version": "3.10.2"
  },
  "orig_nbformat": 4
 },
 "nbformat": 4,
 "nbformat_minor": 2
}
